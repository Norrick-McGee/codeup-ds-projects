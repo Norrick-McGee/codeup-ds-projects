{
 "cells": [
  {
   "cell_type": "code",
   "execution_count": 1,
   "metadata": {},
   "outputs": [],
   "source": [
    "#Data\n",
    "import pandas as pd\n",
    "\n",
    "#Numbers and Math\n",
    "import numpy as np \n",
    "import scipy.stats as stats\n",
    "import statsmodels.api as sm\n",
    "\n",
    "#Machine Learning\n",
    "from sklearn.model_selection import train_test_split\n",
    "from sklearn.linear_model import LinearRegression\n",
    "from sklearn.metrics import mean_squared_error, r2_score, mean_absolute_error, median_absolute_error\n",
    "\n",
    "#Graphing\n",
    "import seaborn as sns\n",
    "import matplotlib.pyplot as plt"
   ]
  },
  {
   "cell_type": "code",
   "execution_count": 2,
   "metadata": {},
   "outputs": [],
   "source": [
    "from env import user, password, host, properties_csv, train_csv "
   ]
  },
  {
   "cell_type": "code",
   "execution_count": 3,
   "metadata": {},
   "outputs": [
    {
     "name": "stderr",
     "output_type": "stream",
     "text": [
      "/usr/local/anaconda3/lib/python3.7/site-packages/IPython/core/interactiveshell.py:3020: DtypeWarning: Columns (22,32,34,49,55) have mixed types. Specify dtype option on import or set low_memory=False.\n",
      "  interactivity=interactivity, compiler=compiler, result=result)\n"
     ]
    }
   ],
   "source": [
    "df = pd.read_csv(properties_csv)\n",
    "full_df = df.copy()"
   ]
  },
  {
   "cell_type": "code",
   "execution_count": 4,
   "metadata": {},
   "outputs": [],
   "source": [
    "cols = list(df.columns)\n",
    "rows = df.shape[0]"
   ]
  },
  {
   "cell_type": "code",
   "execution_count": 5,
   "metadata": {},
   "outputs": [
    {
     "data": {
      "text/plain": [
       "2985217"
      ]
     },
     "execution_count": 5,
     "metadata": {},
     "output_type": "execute_result"
    }
   ],
   "source": [
    "NaN_percent_in_cols = {} \n",
    "df.shape[0]"
   ]
  },
  {
   "cell_type": "code",
   "execution_count": 6,
   "metadata": {},
   "outputs": [],
   "source": [
    "def percent_NaNs(df):\n",
    "    cols = list(df.columns)\n",
    "    Nans = {}\n",
    "    for col in cols:\n",
    "        Nans[col] = 'Missing {:0.2f}%'.format(df[col].isnull().sum()/df.shape[0]*100)\n",
    "        \n",
    "    return Nans"
   ]
  },
  {
   "cell_type": "code",
   "execution_count": 71,
   "metadata": {},
   "outputs": [],
   "source": [
    "def precent_zeros(df):\n",
    "    cols = list(df.columns)\n",
    "    zeros = {}\n",
    "    for col in cols:\n",
    "        Nans[col] = 'Zeros: {:.2f}%'.format((df[col] == 0).sum()/df.shape[0] * 100) "
   ]
  },
  {
   "cell_type": "code",
   "execution_count": 7,
   "metadata": {},
   "outputs": [
    {
     "data": {
      "text/plain": [
       "{'parcelid': 'Missing 0.00%',\n",
       " 'airconditioningtypeid': 'Missing 72.82%',\n",
       " 'architecturalstyletypeid': 'Missing 99.80%',\n",
       " 'basementsqft': 'Missing 99.95%',\n",
       " 'bathroomcnt': 'Missing 0.38%',\n",
       " 'bedroomcnt': 'Missing 0.38%',\n",
       " 'buildingclasstypeid': 'Missing 99.58%',\n",
       " 'buildingqualitytypeid': 'Missing 35.06%',\n",
       " 'calculatedbathnbr': 'Missing 4.32%',\n",
       " 'decktypeid': 'Missing 99.43%',\n",
       " 'finishedfloor1squarefeet': 'Missing 93.21%',\n",
       " 'calculatedfinishedsquarefeet': 'Missing 1.86%',\n",
       " 'finishedsquarefeet12': 'Missing 9.25%',\n",
       " 'finishedsquarefeet13': 'Missing 99.74%',\n",
       " 'finishedsquarefeet15': 'Missing 93.61%',\n",
       " 'finishedsquarefeet50': 'Missing 93.21%',\n",
       " 'finishedsquarefeet6': 'Missing 99.26%',\n",
       " 'fips': 'Missing 0.38%',\n",
       " 'fireplacecnt': 'Missing 89.53%',\n",
       " 'fullbathcnt': 'Missing 4.32%',\n",
       " 'garagecarcnt': 'Missing 70.41%',\n",
       " 'garagetotalsqft': 'Missing 70.41%',\n",
       " 'hashottuborspa': 'Missing 97.69%',\n",
       " 'heatingorsystemtypeid': 'Missing 39.49%',\n",
       " 'latitude': 'Missing 0.38%',\n",
       " 'longitude': 'Missing 0.38%',\n",
       " 'lotsizesquarefeet': 'Missing 9.25%',\n",
       " 'poolcnt': 'Missing 82.66%',\n",
       " 'poolsizesum': 'Missing 99.06%',\n",
       " 'pooltypeid10': 'Missing 98.76%',\n",
       " 'pooltypeid2': 'Missing 98.93%',\n",
       " 'pooltypeid7': 'Missing 83.74%',\n",
       " 'propertycountylandusecode': 'Missing 0.41%',\n",
       " 'propertylandusetypeid': 'Missing 0.38%',\n",
       " 'propertyzoningdesc': 'Missing 33.72%',\n",
       " 'rawcensustractandblock': 'Missing 0.38%',\n",
       " 'regionidcity': 'Missing 2.11%',\n",
       " 'regionidcounty': 'Missing 0.38%',\n",
       " 'regionidneighborhood': 'Missing 61.26%',\n",
       " 'regionidzip': 'Missing 0.47%',\n",
       " 'roomcnt': 'Missing 0.38%',\n",
       " 'storytypeid': 'Missing 99.95%',\n",
       " 'threequarterbathnbr': 'Missing 89.56%',\n",
       " 'typeconstructiontypeid': 'Missing 99.77%',\n",
       " 'unitcnt': 'Missing 33.76%',\n",
       " 'yardbuildingsqft17': 'Missing 97.31%',\n",
       " 'yardbuildingsqft26': 'Missing 99.91%',\n",
       " 'yearbuilt': 'Missing 2.01%',\n",
       " 'numberofstories': 'Missing 77.15%',\n",
       " 'fireplaceflag': 'Missing 99.83%',\n",
       " 'structuretaxvaluedollarcnt': 'Missing 1.84%',\n",
       " 'taxvaluedollarcnt': 'Missing 1.43%',\n",
       " 'assessmentyear': 'Missing 0.38%',\n",
       " 'landtaxvaluedollarcnt': 'Missing 2.27%',\n",
       " 'taxamount': 'Missing 1.05%',\n",
       " 'taxdelinquencyflag': 'Missing 98.11%',\n",
       " 'taxdelinquencyyear': 'Missing 98.11%',\n",
       " 'censustractandblock': 'Missing 2.52%'}"
      ]
     },
     "execution_count": 7,
     "metadata": {},
     "output_type": "execute_result"
    }
   ],
   "source": [
    "percent_NaNs(df)"
   ]
  },
  {
   "cell_type": "code",
   "execution_count": 8,
   "metadata": {},
   "outputs": [],
   "source": [
    "houses_df = df[['parcelid','bathroomcnt','calculatedfinishedsquarefeet','fullbathcnt','garagecarcnt','roomcnt','yearbuilt','taxvaluedollarcnt','taxamount', 'poolcnt','unitcnt']]"
   ]
  },
  {
   "cell_type": "code",
   "execution_count": 9,
   "metadata": {},
   "outputs": [
    {
     "data": {
      "text/plain": [
       "{'parcelid': 'Missing 0.00%',\n",
       " 'bathroomcnt': 'Missing 0.38%',\n",
       " 'calculatedfinishedsquarefeet': 'Missing 1.86%',\n",
       " 'fullbathcnt': 'Missing 4.32%',\n",
       " 'garagecarcnt': 'Missing 70.41%',\n",
       " 'roomcnt': 'Missing 0.38%',\n",
       " 'yearbuilt': 'Missing 2.01%',\n",
       " 'taxvaluedollarcnt': 'Missing 1.43%',\n",
       " 'taxamount': 'Missing 1.05%',\n",
       " 'poolcnt': 'Missing 82.66%',\n",
       " 'unitcnt': 'Missing 33.76%'}"
      ]
     },
     "execution_count": 9,
     "metadata": {},
     "output_type": "execute_result"
    }
   ],
   "source": [
    "percent_NaNs(houses_df)"
   ]
  },
  {
   "cell_type": "code",
   "execution_count": 10,
   "metadata": {},
   "outputs": [],
   "source": [
    "train_df = pd.read_csv(train_csv)"
   ]
  },
  {
   "cell_type": "code",
   "execution_count": 11,
   "metadata": {},
   "outputs": [
    {
     "data": {
      "text/html": [
       "<div>\n",
       "<style scoped>\n",
       "    .dataframe tbody tr th:only-of-type {\n",
       "        vertical-align: middle;\n",
       "    }\n",
       "\n",
       "    .dataframe tbody tr th {\n",
       "        vertical-align: top;\n",
       "    }\n",
       "\n",
       "    .dataframe thead th {\n",
       "        text-align: right;\n",
       "    }\n",
       "</style>\n",
       "<table border=\"1\" class=\"dataframe\">\n",
       "  <thead>\n",
       "    <tr style=\"text-align: right;\">\n",
       "      <th></th>\n",
       "      <th>parcelid</th>\n",
       "      <th>logerror</th>\n",
       "      <th>transactiondate</th>\n",
       "    </tr>\n",
       "  </thead>\n",
       "  <tbody>\n",
       "    <tr>\n",
       "      <th>5224</th>\n",
       "      <td>14707927</td>\n",
       "      <td>0.0459</td>\n",
       "      <td>2016-01-26</td>\n",
       "    </tr>\n",
       "    <tr>\n",
       "      <th>82056</th>\n",
       "      <td>12520184</td>\n",
       "      <td>-0.0182</td>\n",
       "      <td>2016-10-03</td>\n",
       "    </tr>\n",
       "    <tr>\n",
       "      <th>48582</th>\n",
       "      <td>14225036</td>\n",
       "      <td>-0.0192</td>\n",
       "      <td>2016-06-23</td>\n",
       "    </tr>\n",
       "    <tr>\n",
       "      <th>35210</th>\n",
       "      <td>10858321</td>\n",
       "      <td>-0.0555</td>\n",
       "      <td>2016-05-13</td>\n",
       "    </tr>\n",
       "    <tr>\n",
       "      <th>46802</th>\n",
       "      <td>13836691</td>\n",
       "      <td>-0.0101</td>\n",
       "      <td>2016-06-17</td>\n",
       "    </tr>\n",
       "  </tbody>\n",
       "</table>\n",
       "</div>"
      ],
      "text/plain": [
       "       parcelid  logerror transactiondate\n",
       "5224   14707927    0.0459      2016-01-26\n",
       "82056  12520184   -0.0182      2016-10-03\n",
       "48582  14225036   -0.0192      2016-06-23\n",
       "35210  10858321   -0.0555      2016-05-13\n",
       "46802  13836691   -0.0101      2016-06-17"
      ]
     },
     "execution_count": 11,
     "metadata": {},
     "output_type": "execute_result"
    }
   ],
   "source": [
    "train_df.sample(5)"
   ]
  },
  {
   "cell_type": "code",
   "execution_count": 12,
   "metadata": {},
   "outputs": [
    {
     "data": {
      "text/html": [
       "<div>\n",
       "<style scoped>\n",
       "    .dataframe tbody tr th:only-of-type {\n",
       "        vertical-align: middle;\n",
       "    }\n",
       "\n",
       "    .dataframe tbody tr th {\n",
       "        vertical-align: top;\n",
       "    }\n",
       "\n",
       "    .dataframe thead th {\n",
       "        text-align: right;\n",
       "    }\n",
       "</style>\n",
       "<table border=\"1\" class=\"dataframe\">\n",
       "  <thead>\n",
       "    <tr style=\"text-align: right;\">\n",
       "      <th></th>\n",
       "      <th>parcelid</th>\n",
       "      <th>bathroomcnt</th>\n",
       "      <th>calculatedfinishedsquarefeet</th>\n",
       "      <th>fullbathcnt</th>\n",
       "      <th>garagecarcnt</th>\n",
       "      <th>roomcnt</th>\n",
       "      <th>yearbuilt</th>\n",
       "      <th>taxvaluedollarcnt</th>\n",
       "      <th>taxamount</th>\n",
       "      <th>poolcnt</th>\n",
       "      <th>unitcnt</th>\n",
       "    </tr>\n",
       "  </thead>\n",
       "  <tbody>\n",
       "    <tr>\n",
       "      <th>1305763</th>\n",
       "      <td>14205833</td>\n",
       "      <td>3.0</td>\n",
       "      <td>4249.0</td>\n",
       "      <td>3.0</td>\n",
       "      <td>3.0</td>\n",
       "      <td>8.0</td>\n",
       "      <td>1976.0</td>\n",
       "      <td>1027063.0</td>\n",
       "      <td>11120.62</td>\n",
       "      <td>1.0</td>\n",
       "      <td>NaN</td>\n",
       "    </tr>\n",
       "    <tr>\n",
       "      <th>2963239</th>\n",
       "      <td>11604406</td>\n",
       "      <td>3.0</td>\n",
       "      <td>2712.0</td>\n",
       "      <td>3.0</td>\n",
       "      <td>NaN</td>\n",
       "      <td>0.0</td>\n",
       "      <td>1951.0</td>\n",
       "      <td>412335.0</td>\n",
       "      <td>5361.18</td>\n",
       "      <td>NaN</td>\n",
       "      <td>2.0</td>\n",
       "    </tr>\n",
       "    <tr>\n",
       "      <th>2055568</th>\n",
       "      <td>11280597</td>\n",
       "      <td>2.0</td>\n",
       "      <td>2316.0</td>\n",
       "      <td>2.0</td>\n",
       "      <td>NaN</td>\n",
       "      <td>0.0</td>\n",
       "      <td>1974.0</td>\n",
       "      <td>189800.0</td>\n",
       "      <td>3065.61</td>\n",
       "      <td>NaN</td>\n",
       "      <td>1.0</td>\n",
       "    </tr>\n",
       "    <tr>\n",
       "      <th>1558144</th>\n",
       "      <td>14093773</td>\n",
       "      <td>2.0</td>\n",
       "      <td>1218.0</td>\n",
       "      <td>2.0</td>\n",
       "      <td>1.0</td>\n",
       "      <td>7.0</td>\n",
       "      <td>1955.0</td>\n",
       "      <td>345015.0</td>\n",
       "      <td>4414.70</td>\n",
       "      <td>NaN</td>\n",
       "      <td>NaN</td>\n",
       "    </tr>\n",
       "    <tr>\n",
       "      <th>1554467</th>\n",
       "      <td>12477917</td>\n",
       "      <td>3.0</td>\n",
       "      <td>2000.0</td>\n",
       "      <td>3.0</td>\n",
       "      <td>NaN</td>\n",
       "      <td>0.0</td>\n",
       "      <td>1965.0</td>\n",
       "      <td>535737.0</td>\n",
       "      <td>6421.86</td>\n",
       "      <td>1.0</td>\n",
       "      <td>1.0</td>\n",
       "    </tr>\n",
       "  </tbody>\n",
       "</table>\n",
       "</div>"
      ],
      "text/plain": [
       "         parcelid  bathroomcnt  calculatedfinishedsquarefeet  fullbathcnt  \\\n",
       "1305763  14205833          3.0                        4249.0          3.0   \n",
       "2963239  11604406          3.0                        2712.0          3.0   \n",
       "2055568  11280597          2.0                        2316.0          2.0   \n",
       "1558144  14093773          2.0                        1218.0          2.0   \n",
       "1554467  12477917          3.0                        2000.0          3.0   \n",
       "\n",
       "         garagecarcnt  roomcnt  yearbuilt  taxvaluedollarcnt  taxamount  \\\n",
       "1305763           3.0      8.0     1976.0          1027063.0   11120.62   \n",
       "2963239           NaN      0.0     1951.0           412335.0    5361.18   \n",
       "2055568           NaN      0.0     1974.0           189800.0    3065.61   \n",
       "1558144           1.0      7.0     1955.0           345015.0    4414.70   \n",
       "1554467           NaN      0.0     1965.0           535737.0    6421.86   \n",
       "\n",
       "         poolcnt  unitcnt  \n",
       "1305763      1.0      NaN  \n",
       "2963239      NaN      2.0  \n",
       "2055568      NaN      1.0  \n",
       "1558144      NaN      NaN  \n",
       "1554467      1.0      1.0  "
      ]
     },
     "execution_count": 12,
     "metadata": {},
     "output_type": "execute_result"
    }
   ],
   "source": [
    "houses_df.sample(5)"
   ]
  },
  {
   "cell_type": "code",
   "execution_count": 15,
   "metadata": {},
   "outputs": [],
   "source": [
    "joint_df = pd.merge(houses_df, train_df, on='parcelid', how='inner')"
   ]
  },
  {
   "cell_type": "code",
   "execution_count": 16,
   "metadata": {},
   "outputs": [
    {
     "data": {
      "text/plain": [
       "['parcelid',\n",
       " 'bathroomcnt',\n",
       " 'calculatedfinishedsquarefeet',\n",
       " 'fullbathcnt',\n",
       " 'garagecarcnt',\n",
       " 'roomcnt',\n",
       " 'yearbuilt',\n",
       " 'taxvaluedollarcnt',\n",
       " 'taxamount',\n",
       " 'poolcnt',\n",
       " 'unitcnt',\n",
       " 'logerror',\n",
       " 'transactiondate']"
      ]
     },
     "execution_count": 16,
     "metadata": {},
     "output_type": "execute_result"
    }
   ],
   "source": [
    "list(joint_df.columns)"
   ]
  },
  {
   "cell_type": "code",
   "execution_count": 19,
   "metadata": {},
   "outputs": [
    {
     "data": {
      "text/plain": [
       "{'parcelid': 'Missing 0.00%',\n",
       " 'bathroomcnt': 'Missing 0.00%',\n",
       " 'calculatedfinishedsquarefeet': 'Missing 0.73%',\n",
       " 'fullbathcnt': 'Missing 1.31%',\n",
       " 'garagecarcnt': 'Missing 66.84%',\n",
       " 'roomcnt': 'Missing 0.00%',\n",
       " 'yearbuilt': 'Missing 0.84%',\n",
       " 'taxvaluedollarcnt': 'Missing 0.00%',\n",
       " 'taxamount': 'Missing 0.01%',\n",
       " 'poolcnt': 'Missing 80.17%',\n",
       " 'unitcnt': 'Missing 35.36%',\n",
       " 'logerror': 'Missing 0.00%',\n",
       " 'transactiondate': 'Missing 0.00%'}"
      ]
     },
     "execution_count": 19,
     "metadata": {},
     "output_type": "execute_result"
    }
   ],
   "source": [
    "percent_NaNs(joint_df)"
   ]
  },
  {
   "cell_type": "code",
   "execution_count": 25,
   "metadata": {},
   "outputs": [],
   "source": [
    "jdf = joint_df.copy()"
   ]
  },
  {
   "cell_type": "code",
   "execution_count": 50,
   "metadata": {},
   "outputs": [],
   "source": [
    "jdf['garagecarcnt'] = jdf['garagecarcnt'].replace(np.nan,0)\n",
    "jdf['poolcnt'] = jdf['poolcnt'].replace(np.nan,0)\n",
    "jdf['unitcnt'] = jdf['unitcnt'].replace(np.nan,1)\n",
    "jdf['taxamount'] = jdf['taxamount'].replace(np.nan,0)\n",
    "jdf['yearbuilt'] = jdf['yearbuilt'].replace(np.nan,jdf['yearbuilt'].mean())"
   ]
  },
  {
   "cell_type": "code",
   "execution_count": 51,
   "metadata": {},
   "outputs": [
    {
     "data": {
      "text/plain": [
       "{'parcelid': 'Missing 0.00%',\n",
       " 'bathroomcnt': 'Missing 0.00%',\n",
       " 'calculatedfinishedsquarefeet': 'Missing 0.73%',\n",
       " 'fullbathcnt': 'Missing 1.31%',\n",
       " 'garagecarcnt': 'Missing 0.00%',\n",
       " 'roomcnt': 'Missing 0.00%',\n",
       " 'yearbuilt': 'Missing 0.00%',\n",
       " 'taxvaluedollarcnt': 'Missing 0.00%',\n",
       " 'taxamount': 'Missing 0.00%',\n",
       " 'poolcnt': 'Missing 0.00%',\n",
       " 'unitcnt': 'Missing 0.00%',\n",
       " 'logerror': 'Missing 0.00%',\n",
       " 'transactiondate': 'Missing 0.00%'}"
      ]
     },
     "execution_count": 51,
     "metadata": {},
     "output_type": "execute_result"
    }
   ],
   "source": [
    "percent_NaNs(jdf)"
   ]
  },
  {
   "cell_type": "code",
   "execution_count": 49,
   "metadata": {},
   "outputs": [
    {
     "data": {
      "text/plain": [
       "1968.5328701169585"
      ]
     },
     "execution_count": 49,
     "metadata": {},
     "output_type": "execute_result"
    }
   ],
   "source": [
    "jdf['yearbuilt'].mean()"
   ]
  },
  {
   "cell_type": "code",
   "execution_count": 68,
   "metadata": {},
   "outputs": [
    {
     "data": {
      "text/plain": [
       "{'parcelid': 'Missing 0.00%',\n",
       " 'bathroomcnt': 'Missing 0.00%',\n",
       " 'calculatedfinishedsquarefeet': 'Missing 0.73%',\n",
       " 'fullbathcnt': 'Missing 1.31%',\n",
       " 'garagecarcnt': 'Missing 0.00%',\n",
       " 'roomcnt': 'Missing 0.00%',\n",
       " 'yearbuilt': 'Missing 0.00%',\n",
       " 'taxvaluedollarcnt': 'Missing 0.00%',\n",
       " 'taxamount': 'Missing 0.00%',\n",
       " 'poolcnt': 'Missing 0.00%',\n",
       " 'unitcnt': 'Missing 0.00%',\n",
       " 'logerror': 'Missing 0.00%',\n",
       " 'transactiondate': 'Missing 0.00%'}"
      ]
     },
     "execution_count": 68,
     "metadata": {},
     "output_type": "execute_result"
    }
   ],
   "source": [
    "percent_NaNs(jdf)"
   ]
  },
  {
   "cell_type": "code",
   "execution_count": 72,
   "metadata": {},
   "outputs": [
    {
     "ename": "ValueError",
     "evalue": "Invalid format specifier",
     "output_type": "error",
     "traceback": [
      "\u001b[0;31m---------------------------------------------------------------------------\u001b[0m",
      "\u001b[0;31mValueError\u001b[0m                                Traceback (most recent call last)",
      "\u001b[0;32m<ipython-input-72-39a8c19a0a47>\u001b[0m in \u001b[0;36m<module>\u001b[0;34m\u001b[0m\n\u001b[0;32m----> 1\u001b[0;31m \u001b[0mprecent_zeros\u001b[0m\u001b[0;34m(\u001b[0m\u001b[0mjdf\u001b[0m\u001b[0;34m)\u001b[0m\u001b[0;34m\u001b[0m\u001b[0;34m\u001b[0m\u001b[0m\n\u001b[0m",
      "\u001b[0;32m<ipython-input-71-839842495097>\u001b[0m in \u001b[0;36mprecent_zeros\u001b[0;34m(df)\u001b[0m\n\u001b[1;32m      3\u001b[0m     \u001b[0mzeros\u001b[0m \u001b[0;34m=\u001b[0m \u001b[0;34m{\u001b[0m\u001b[0;34m}\u001b[0m\u001b[0;34m\u001b[0m\u001b[0;34m\u001b[0m\u001b[0m\n\u001b[1;32m      4\u001b[0m     \u001b[0;32mfor\u001b[0m \u001b[0mcol\u001b[0m \u001b[0;32min\u001b[0m \u001b[0mcols\u001b[0m\u001b[0;34m:\u001b[0m\u001b[0;34m\u001b[0m\u001b[0;34m\u001b[0m\u001b[0m\n\u001b[0;32m----> 5\u001b[0;31m         \u001b[0mNans\u001b[0m\u001b[0;34m[\u001b[0m\u001b[0mcol\u001b[0m\u001b[0;34m]\u001b[0m \u001b[0;34m=\u001b[0m \u001b[0;34m'Zeros: {:.2f%}'\u001b[0m\u001b[0;34m.\u001b[0m\u001b[0mformat\u001b[0m\u001b[0;34m(\u001b[0m\u001b[0;34m(\u001b[0m\u001b[0mdf\u001b[0m\u001b[0;34m[\u001b[0m\u001b[0mcol\u001b[0m\u001b[0;34m]\u001b[0m \u001b[0;34m==\u001b[0m \u001b[0;36m0\u001b[0m\u001b[0;34m)\u001b[0m\u001b[0;34m.\u001b[0m\u001b[0msum\u001b[0m\u001b[0;34m(\u001b[0m\u001b[0;34m)\u001b[0m\u001b[0;34m/\u001b[0m\u001b[0mdf\u001b[0m\u001b[0;34m.\u001b[0m\u001b[0mshape\u001b[0m\u001b[0;34m[\u001b[0m\u001b[0;36m0\u001b[0m\u001b[0;34m]\u001b[0m \u001b[0;34m*\u001b[0m \u001b[0;36m100\u001b[0m\u001b[0;34m)\u001b[0m\u001b[0;34m\u001b[0m\u001b[0;34m\u001b[0m\u001b[0m\n\u001b[0m",
      "\u001b[0;31mValueError\u001b[0m: Invalid format specifier"
     ]
    }
   ],
   "source": [
    "precent_zeros(jdf)"
   ]
  },
  {
   "cell_type": "code",
   "execution_count": null,
   "metadata": {},
   "outputs": [],
   "source": []
  }
 ],
 "metadata": {
  "kernelspec": {
   "display_name": "Python 3",
   "language": "python",
   "name": "python3"
  },
  "language_info": {
   "codemirror_mode": {
    "name": "ipython",
    "version": 3
   },
   "file_extension": ".py",
   "mimetype": "text/x-python",
   "name": "python",
   "nbconvert_exporter": "python",
   "pygments_lexer": "ipython3",
   "version": "3.7.1"
  }
 },
 "nbformat": 4,
 "nbformat_minor": 2
}
